{
 "cells": [
  {
   "cell_type": "markdown",
   "id": "e9cf75bf",
   "metadata": {},
   "source": [
    "## Dataset"
   ]
  },
  {
   "cell_type": "markdown",
   "id": "fb3766e1",
   "metadata": {},
   "source": [
    "**Source** : https://www.kaggle.com/datasets/girishkleit/riceonfiledimages/data\n",
    "\n",
    "**Description** : On field images from Mugad Rice Research Station, Dharwad, Karnataka, India."
   ]
  },
  {
   "cell_type": "code",
   "execution_count": 39,
   "id": "7ae69ddf",
   "metadata": {},
   "outputs": [],
   "source": [
    "import os\n",
    "import pandas as pd\n",
    "import numpy as np\n",
    "from shutil import copyfile,rmtree, copy\n",
    "import random\n",
    "from tensorflow.keras.preprocessing.image import ImageDataGenerator"
   ]
  },
  {
   "cell_type": "code",
   "execution_count": 7,
   "id": "25e3de5e",
   "metadata": {},
   "outputs": [
    {
     "data": {
      "text/plain": [
       "['Healthy', 'Mild', 'Moderate', 'Severe']"
      ]
     },
     "execution_count": 7,
     "metadata": {},
     "output_type": "execute_result"
    }
   ],
   "source": [
    "types=[]\n",
    "folder_path = \"Paddy-Onfield-Images\"\n",
    "\n",
    "types = os.listdir(folder_path)\n",
    "\n",
    "types"
   ]
  },
  {
   "cell_type": "code",
   "execution_count": 17,
   "id": "c4201be9",
   "metadata": {},
   "outputs": [
    {
     "name": "stdout",
     "output_type": "stream",
     "text": [
      "Mild (205).JPG\n",
      "\n",
      "Healthy : 855\n",
      "Mild : 1229\n",
      "Moderate : 1013\n",
      "Severe : 850\n"
     ]
    }
   ],
   "source": [
    "# dictionary containing all data file names, class wise\n",
    "data_files={}\n",
    "for cls in types:\n",
    "    data_files[cls] = os.listdir(folder_path+\"/\"+cls)\n",
    "    random.shuffle(data_files[cls])\n",
    "    \n",
    "print(data_files['Mild'][0])\n",
    "print()\n",
    "\n",
    "# printing the size of dataset for each class\n",
    "for key in data_files:\n",
    "    print(key, \":\", len(data_files[key]))"
   ]
  },
  {
   "cell_type": "markdown",
   "id": "a96990c4",
   "metadata": {},
   "source": [
    "### Split into train and test dataset"
   ]
  },
  {
   "cell_type": "code",
   "execution_count": 26,
   "id": "3f52fe37",
   "metadata": {},
   "outputs": [],
   "source": [
    "def split_dict_by_fraction(input_dict, ratio):\n",
    "    dict1={}\n",
    "    dict2={}\n",
    "    keys = list(input_dict.keys())\n",
    "    for k in keys:\n",
    "        split_point=int(len(input_dict[k])*ratio)\n",
    "        dict1[k]=input_dict[k][:split_point]\n",
    "        dict2[k]=input_dict[k][split_point:]\n",
    "\n",
    "    return dict1, dict2"
   ]
  },
  {
   "cell_type": "code",
   "execution_count": 28,
   "id": "70f1db1e",
   "metadata": {},
   "outputs": [
    {
     "name": "stdout",
     "output_type": "stream",
     "text": [
      "TRAIN DATA\n",
      "Healthy : 684\n",
      "Mild : 983\n",
      "Moderate : 810\n",
      "Severe : 680\n",
      "\n",
      "TEST DATA\n",
      "Healthy : 171\n",
      "Mild : 246\n",
      "Moderate : 203\n",
      "Severe : 170\n"
     ]
    }
   ],
   "source": [
    "fraction_train = 0.8\n",
    "train_data, test_data = split_dict_by_fraction(data_files, fraction_train)\n",
    "\n",
    "# printing the size of dataset for each class\n",
    "print(\"TRAIN DATA\")\n",
    "for key in train_data:\n",
    "    print(key, \":\", len(train_data[key]))\n",
    "print()\n",
    "print(\"TEST DATA\")\n",
    "for key in test_data:\n",
    "    print(key, \":\", len(test_data[key]))"
   ]
  },
  {
   "cell_type": "markdown",
   "id": "cebd1814",
   "metadata": {},
   "source": [
    "### Make training and testing directories"
   ]
  },
  {
   "cell_type": "code",
   "execution_count": 35,
   "id": "75479f2e",
   "metadata": {},
   "outputs": [],
   "source": [
    "path_train=folder_path+\"/train\"\n",
    "path_test=folder_path+\"/test\"\n",
    "\n",
    "if os.path.exists(path_train):\n",
    "    rmtree(path_train)\n",
    "os.mkdir(path_train)\n",
    "\n",
    "if os.path.exists(path_test):\n",
    "    rmtree(path_test)\n",
    "os.mkdir(path_test)"
   ]
  },
  {
   "cell_type": "markdown",
   "id": "32612f2d",
   "metadata": {},
   "source": [
    "#### Copying to 'train'"
   ]
  },
  {
   "cell_type": "code",
   "execution_count": 44,
   "id": "afaf1cba",
   "metadata": {},
   "outputs": [
    {
     "name": "stdout",
     "output_type": "stream",
     "text": [
      "7.762938737869263\n"
     ]
    }
   ],
   "source": [
    "import time\n",
    "start_time = time.time()\n",
    "\n",
    "for k in types:\n",
    "    cls_path=path_train+\"/\"+k\n",
    "    if os.path.exists(cls_path):\n",
    "        rmtree(cls_path)\n",
    "    os.mkdir(cls_path)\n",
    "    for i in range(len(train_data[k])):\n",
    "        copy(folder_path+\"/\"+k+\"/\"+train_data[k][i],cls_path)\n",
    "        \n",
    "print(time.time()-start_time)"
   ]
  },
  {
   "cell_type": "markdown",
   "id": "fb5ae8a0",
   "metadata": {},
   "source": [
    "#### Copying to 'test'"
   ]
  },
  {
   "cell_type": "code",
   "execution_count": 45,
   "id": "2978ead4",
   "metadata": {},
   "outputs": [
    {
     "name": "stdout",
     "output_type": "stream",
     "text": [
      "9.614457845687866\n"
     ]
    }
   ],
   "source": [
    "for k in types:\n",
    "    cls_path=path_test+\"/\"+k\n",
    "    if os.path.exists(cls_path):\n",
    "        rmtree(cls_path)\n",
    "    os.mkdir(cls_path)\n",
    "    for i in range(len(test_data[k])):\n",
    "        copy(folder_path+\"/\"+k+\"/\"+test_data[k][i],cls_path)\n",
    "        \n",
    "print(time.time()-start_time)"
   ]
  },
  {
   "cell_type": "markdown",
   "id": "9267fc8f",
   "metadata": {},
   "source": [
    "### Splittin, transofrming and generating image data"
   ]
  },
  {
   "cell_type": "code",
   "execution_count": 48,
   "id": "38f868d4",
   "metadata": {},
   "outputs": [],
   "source": [
    "BATCH_SIZE = 32\n",
    "IMAGE_SIZE = 256"
   ]
  },
  {
   "cell_type": "code",
   "execution_count": 49,
   "id": "a54843cc",
   "metadata": {},
   "outputs": [
    {
     "name": "stdout",
     "output_type": "stream",
     "text": [
      "Found 2527 images belonging to 4 classes.\n",
      "Found 630 images belonging to 4 classes.\n"
     ]
    }
   ],
   "source": [
    "datagen = ImageDataGenerator(\n",
    "        rescale = 1./255,\n",
    "        validation_split = 0.2\n",
    ")\n",
    "\n",
    "training_data = datagen.flow_from_directory(path_train,\n",
    "                                        target_size=(IMAGE_SIZE,IMAGE_SIZE),\n",
    "                                        batch_size=BATCH_SIZE,\n",
    "                                        subset='training',shuffle=False)\n",
    "\n",
    "evaluating_data = datagen.flow_from_directory(path_train,\n",
    "                                        target_size=(IMAGE_SIZE,IMAGE_SIZE),\n",
    "                                        batch_size=BATCH_SIZE,\n",
    "                                        subset='validation',shuffle=False)"
   ]
  },
  {
   "cell_type": "markdown",
   "id": "fa588cea",
   "metadata": {},
   "source": [
    "## Creating the model - CNN"
   ]
  },
  {
   "cell_type": "markdown",
   "id": "f6373f26",
   "metadata": {},
   "source": [
    "**Source** : https://www.kaggle.com/code/pranavagarwal03/cnn-naive"
   ]
  },
  {
   "cell_type": "code",
   "execution_count": 46,
   "id": "69135b35",
   "metadata": {},
   "outputs": [],
   "source": [
    "from tensorflow import keras\n",
    "from tensorflow.keras.preprocessing.image import ImageDataGenerator\n",
    "from tensorflow.keras.optimizers import Adam\n",
    "from tensorflow.keras.callbacks import EarlyStopping\n",
    "from tensorflow.keras.layers import Conv2D, MaxPooling2D, Dense, Flatten"
   ]
  },
  {
   "cell_type": "code",
   "execution_count": 98,
   "id": "f00731b0",
   "metadata": {},
   "outputs": [],
   "source": [
    "model = keras.models.Sequential([\n",
    "      Conv2D(16, (3,3), activation='relu', input_shape = (IMAGE_SIZE, IMAGE_SIZE, 3)),\n",
    "      MaxPooling2D(2, 2),\n",
    "      Conv2D(32, (3,3), activation='relu'),\n",
    "      MaxPooling2D(2, 2),\n",
    "      Conv2D(64, (3,3), activation='relu'),\n",
    "      MaxPooling2D(2, 2),\n",
    "      Flatten(),\n",
    "      Dense(1024, activation='relu'),\n",
    "      Dense(4, activation='softmax')\n",
    "])"
   ]
  },
  {
   "cell_type": "code",
   "execution_count": 99,
   "id": "e80268c8",
   "metadata": {},
   "outputs": [
    {
     "name": "stdout",
     "output_type": "stream",
     "text": [
      "Model: \"sequential_3\"\n",
      "_________________________________________________________________\n",
      " Layer (type)                Output Shape              Param #   \n",
      "=================================================================\n",
      " conv2d_9 (Conv2D)           (None, 254, 254, 16)      448       \n",
      "                                                                 \n",
      " max_pooling2d_9 (MaxPoolin  (None, 127, 127, 16)      0         \n",
      " g2D)                                                            \n",
      "                                                                 \n",
      " conv2d_10 (Conv2D)          (None, 125, 125, 32)      4640      \n",
      "                                                                 \n",
      " max_pooling2d_10 (MaxPooli  (None, 62, 62, 32)        0         \n",
      " ng2D)                                                           \n",
      "                                                                 \n",
      " conv2d_11 (Conv2D)          (None, 60, 60, 64)        18496     \n",
      "                                                                 \n",
      " max_pooling2d_11 (MaxPooli  (None, 30, 30, 64)        0         \n",
      " ng2D)                                                           \n",
      "                                                                 \n",
      " flatten_3 (Flatten)         (None, 57600)             0         \n",
      "                                                                 \n",
      " dense_6 (Dense)             (None, 1024)              58983424  \n",
      "                                                                 \n",
      " dense_7 (Dense)             (None, 4)                 4100      \n",
      "                                                                 \n",
      "=================================================================\n",
      "Total params: 59011108 (225.11 MB)\n",
      "Trainable params: 59011108 (225.11 MB)\n",
      "Non-trainable params: 0 (0.00 Byte)\n",
      "_________________________________________________________________\n"
     ]
    }
   ],
   "source": [
    "# compile the model\n",
    "model.compile(optimizer= Adam(learning_rate = 0.001), loss = 'categorical_crossentropy', metrics = ['accuracy'])\n",
    "model.summary()"
   ]
  },
  {
   "cell_type": "code",
   "execution_count": 100,
   "id": "f3828b4b",
   "metadata": {},
   "outputs": [],
   "source": [
    "MIN_DELTA=0.005\n",
    "EPOCHS=20\n",
    "PATIENCE=2"
   ]
  },
  {
   "cell_type": "code",
   "execution_count": 101,
   "id": "106d9d22",
   "metadata": {},
   "outputs": [],
   "source": [
    "# to stop training if no significant change in validation data accuracy\n",
    "# es = EarlyStopping(monitor = 'val_accuracy', patience = PATIENCE, min_delta = MIN_DELTA)"
   ]
  },
  {
   "cell_type": "code",
   "execution_count": 102,
   "id": "016a11e5",
   "metadata": {},
   "outputs": [
    {
     "name": "stdout",
     "output_type": "stream",
     "text": [
      "Epoch 1/20\n",
      "79/79 [==============================] - 69s 868ms/step - loss: 3.2562 - accuracy: 0.2414 - val_loss: 1.6057 - val_accuracy: 0.2444\n",
      "Epoch 2/20\n",
      "79/79 [==============================] - 67s 849ms/step - loss: 1.4095 - accuracy: 0.3308 - val_loss: 2.0133 - val_accuracy: 0.2571\n",
      "Epoch 3/20\n",
      "79/79 [==============================] - 68s 865ms/step - loss: 1.4193 - accuracy: 0.2794 - val_loss: 1.3802 - val_accuracy: 0.3190\n",
      "Epoch 4/20\n",
      "79/79 [==============================] - 67s 844ms/step - loss: 1.4615 - accuracy: 0.3182 - val_loss: 1.3684 - val_accuracy: 0.3190\n",
      "Epoch 5/20\n",
      "79/79 [==============================] - 67s 852ms/step - loss: 1.3577 - accuracy: 0.3376 - val_loss: 1.3368 - val_accuracy: 0.3905\n",
      "Epoch 6/20\n",
      "79/79 [==============================] - 67s 841ms/step - loss: 1.3188 - accuracy: 0.3886 - val_loss: 1.4028 - val_accuracy: 0.3222\n",
      "Epoch 7/20\n",
      "79/79 [==============================] - 66s 837ms/step - loss: 1.3584 - accuracy: 0.3637 - val_loss: 1.3104 - val_accuracy: 0.3968\n",
      "Epoch 8/20\n",
      "79/79 [==============================] - 67s 844ms/step - loss: 1.2444 - accuracy: 0.4606 - val_loss: 3.2374 - val_accuracy: 0.2365\n",
      "Epoch 9/20\n",
      "79/79 [==============================] - 67s 842ms/step - loss: 1.1683 - accuracy: 0.5303 - val_loss: 1.6083 - val_accuracy: 0.4190\n",
      "Epoch 10/20\n",
      "79/79 [==============================] - 68s 857ms/step - loss: 0.8971 - accuracy: 0.6664 - val_loss: 1.3418 - val_accuracy: 0.5238\n",
      "Epoch 11/20\n",
      "79/79 [==============================] - 66s 838ms/step - loss: 0.7581 - accuracy: 0.7507 - val_loss: 1.3386 - val_accuracy: 0.5730\n",
      "Epoch 12/20\n",
      "79/79 [==============================] - 68s 861ms/step - loss: 0.6637 - accuracy: 0.7883 - val_loss: 1.3084 - val_accuracy: 0.5413\n",
      "Epoch 13/20\n",
      "79/79 [==============================] - 70s 879ms/step - loss: 0.4952 - accuracy: 0.8358 - val_loss: 1.4407 - val_accuracy: 0.5762\n",
      "Epoch 14/20\n",
      "79/79 [==============================] - 67s 844ms/step - loss: 0.4379 - accuracy: 0.8401 - val_loss: 1.3138 - val_accuracy: 0.6079\n",
      "Epoch 15/20\n",
      "79/79 [==============================] - 76s 958ms/step - loss: 0.3601 - accuracy: 0.8714 - val_loss: 1.6417 - val_accuracy: 0.6048\n",
      "Epoch 16/20\n",
      "79/79 [==============================] - 69s 867ms/step - loss: 0.3234 - accuracy: 0.8860 - val_loss: 1.5062 - val_accuracy: 0.6095\n",
      "Epoch 17/20\n",
      "79/79 [==============================] - 69s 875ms/step - loss: 0.2796 - accuracy: 0.8884 - val_loss: 1.2510 - val_accuracy: 0.6397\n",
      "Epoch 18/20\n",
      "79/79 [==============================] - 68s 858ms/step - loss: 0.2530 - accuracy: 0.9003 - val_loss: 1.5068 - val_accuracy: 0.6333\n",
      "Epoch 19/20\n",
      "79/79 [==============================] - 66s 841ms/step - loss: 0.2466 - accuracy: 0.8963 - val_loss: 1.4672 - val_accuracy: 0.6222\n",
      "Epoch 20/20\n",
      "79/79 [==============================] - 69s 869ms/step - loss: 0.2267 - accuracy: 0.8991 - val_loss: 1.2354 - val_accuracy: 0.6381\n"
     ]
    },
    {
     "data": {
      "text/plain": [
       "<keras.src.callbacks.History at 0x20ef094b7c0>"
      ]
     },
     "execution_count": 102,
     "metadata": {},
     "output_type": "execute_result"
    }
   ],
   "source": [
    "# fitting and generating the model\n",
    "model.fit(\n",
    "    training_data, \n",
    "    epochs = EPOCHS, \n",
    "    validation_data = evaluating_data,\n",
    "#     callbacks = [es]\n",
    "         )"
   ]
  },
  {
   "cell_type": "markdown",
   "id": "82dc2686",
   "metadata": {},
   "source": [
    "## Predict and load test data"
   ]
  },
  {
   "cell_type": "code",
   "execution_count": 103,
   "id": "85c1a331",
   "metadata": {},
   "outputs": [],
   "source": [
    "from tensorflow.keras.utils import image_dataset_from_directory\n",
    "from sklearn.metrics import confusion_matrix, ConfusionMatrixDisplay\n",
    "import matplotlib.pyplot as plt"
   ]
  },
  {
   "cell_type": "code",
   "execution_count": 104,
   "id": "06f94378",
   "metadata": {},
   "outputs": [
    {
     "name": "stdout",
     "output_type": "stream",
     "text": [
      "Found 790 images belonging to 4 classes.\n"
     ]
    }
   ],
   "source": [
    "# transforming test data same as training data\n",
    "test_data_gen = ImageDataGenerator(\n",
    "    rescale = 1./255\n",
    ")\n",
    "\n",
    "test_data = test_data_gen.flow_from_directory(path_test,\n",
    "                          target_size = (IMAGE_SIZE, IMAGE_SIZE),\n",
    "#                           classes = ['test'],\n",
    "                          shuffle = False,\n",
    "                          batch_size = BATCH_SIZE)"
   ]
  },
  {
   "cell_type": "code",
   "execution_count": 105,
   "id": "fc08f09a",
   "metadata": {},
   "outputs": [
    {
     "name": "stdout",
     "output_type": "stream",
     "text": [
      "25/25 [==============================] - 4s 156ms/step\n"
     ]
    },
    {
     "data": {
      "text/plain": [
       "(790, 4)"
      ]
     },
     "execution_count": 105,
     "metadata": {},
     "output_type": "execute_result"
    }
   ],
   "source": [
    "predicted = model.predict(test_data)\n",
    "predicted.shape"
   ]
  },
  {
   "cell_type": "code",
   "execution_count": 106,
   "id": "18fdad82",
   "metadata": {},
   "outputs": [
    {
     "name": "stdout",
     "output_type": "stream",
     "text": [
      "[[120  31   8  12]\n",
      " [ 43 169  18  16]\n",
      " [ 24  35 113  31]\n",
      " [  3   4   3 160]]\n"
     ]
    }
   ],
   "source": [
    "y_pred = [np.array(pred).argmax() for pred in predicted]\n",
    "y_true = test_data.classes\n",
    "\n",
    "print(confusion_matrix(y_true, y_pred))"
   ]
  },
  {
   "cell_type": "code",
   "execution_count": 107,
   "id": "333aa062",
   "metadata": {},
   "outputs": [
    {
     "data": {
      "image/png": "[encoded data removed]",
      "text/plain": [
       "<Figure size 432x288 with 2 Axes>"
      ]
     },
     "metadata": {
      "needs_background": "light"
     },
     "output_type": "display_data"
    }
   ],
   "source": [
    "cm_display = ConfusionMatrixDisplay(confusion_matrix=confusion_matrix(y_true, y_pred), display_labels=types)\n",
    "cm_display.plot()\n",
    "plt.show()"
   ]
  },
  {
   "cell_type": "code",
   "execution_count": null,
   "id": "f374312f",
   "metadata": {},
   "outputs": [],
   "source": []
  },
  {
   "cell_type": "code",
   "execution_count": null,
   "id": "8dcd3da1",
   "metadata": {},
   "outputs": [],
   "source": []
  }
 ],
 "metadata": {
  "kernelspec": {
   "display_name": "Python 3 (ipykernel)",
   "language": "python",
   "name": "python3"
  },
  "language_info": {
   "codemirror_mode": {
    "name": "ipython",
    "version": 3
   },
   "file_extension": ".py",
   "mimetype": "text/x-python",
   "name": "python",
   "nbconvert_exporter": "python",
   "pygments_lexer": "ipython3",
   "version": "3.9.7"
  }
 },
 "nbformat": 4,
 "nbformat_minor": 5
}
