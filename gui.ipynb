{
 "cells": [
  {
   "cell_type": "markdown",
   "id": "a7b18f57",
   "metadata": {},
   "source": [
    "## Megathon '23\n",
    "# Team: CyberSpace\n",
    "### Problem Statement 1\n",
    "by _Govt. of Telangana_"
   ]
  },
  {
   "cell_type": "code",
   "execution_count": 270,
   "id": "3a78f14f",
   "metadata": {},
   "outputs": [],
   "source": [
    "import tkinter as tk\n",
    "from tkinter import filedialog\n",
    "from PIL import Image, ImageTk\n",
    "from PIL import Image\n",
    "import numpy as np\n",
    "import cv2\n",
    "from tensorflow import keras\n",
    "import imageio"
   ]
  },
  {
   "cell_type": "code",
   "execution_count": 271,
   "id": "63545f61",
   "metadata": {},
   "outputs": [],
   "source": [
    "# Define a global variable to store the file path\n",
    "selected_file_path = None\n",
    "\n",
    "def browse_image():\n",
    "    global selected_file_path\n",
    "    file_path = filedialog.askopenfilename(filetypes=[(\"Image Files\", \"*.png *.jpg *.jpeg *.gif *.bmp *.ppm *.pgm\")])\n",
    "    if file_path:\n",
    "\n",
    "        # Display the selected image\n",
    "        img = Image.open(file_path)\n",
    "        img = img.resize((200, 200))  # Resize the image to fit your window\n",
    "        img = ImageTk.PhotoImage(img)\n",
    "        image_display.config(image=img)\n",
    "        image_display.image = img  # Keep a reference to avoid garbage collection\n",
    "\n",
    "        # Set the global variable to the selected file path\n",
    "        selected_file_path = file_path\n",
    "        \n",
    "        # ANALYZING\n",
    "        if(field_type()):   \n",
    "            if(paddy_or_not()):\n",
    "                analyze_type()\n",
    "                analyze_variety()\n",
    "\n"
   ]
  },
  {
   "cell_type": "markdown",
   "id": "5767b2d9",
   "metadata": {},
   "source": [
    "## Main Application"
   ]
  },
  {
   "cell_type": "code",
   "execution_count": 272,
   "id": "c3adefd3",
   "metadata": {},
   "outputs": [],
   "source": [
    "# Create the main application window\n",
    "app = tk.Tk()\n",
    "app.title(\"Analysing Paddy Cultivation\")\n",
    "\n",
    "# app.geometry(\"500x250\")\n",
    "description_label = tk.Label(app, text=\"Description:\")\n",
    "description_label.pack()\n",
    "\n",
    "desc=\"We have attempted to address this problem in a stagewise, divide and conquer fashion.\\n Firstly, given a satellite view of a geographical area, we aim to notify whether there is scope of paddy cultivation or not. Secondly, we look at the probable areas flagged by our first model. The second model is trained to differentiate between paddy and other crops.Lastly, we have models to detect the health of paddy and identify the variety of paddy being cultivated.\"\n",
    "\n",
    "description_text = tk.Label(app, text=desc, wraplength=450)\n",
    "description_text.pack()"
   ]
  },
  {
   "cell_type": "code",
   "execution_count": 273,
   "id": "ef9862fd",
   "metadata": {},
   "outputs": [],
   "source": [
    "# Create and pack a button to browse and select an image\n",
    "browse_button = tk.Button(app, text=\"Browse Image\", command=browse_image)\n",
    "browse_button.pack()\n",
    "\n",
    "image_display = tk.Label(app)\n",
    "image_display.pack()\n",
    "image_display.place()"
   ]
  },
  {
   "cell_type": "code",
   "execution_count": 274,
   "id": "8c33f87d",
   "metadata": {},
   "outputs": [],
   "source": [
    "predicted_field=tk.Label(app, text=\"Is field: \")\n",
    "predicted_field.pack()"
   ]
  },
  {
   "cell_type": "code",
   "execution_count": 275,
   "id": "44263dfe",
   "metadata": {},
   "outputs": [],
   "source": [
    "predicted_ispaddy=tk.Label(app, text=\"Is paddy: \")\n",
    "predicted_ispaddy.pack()"
   ]
  },
  {
   "cell_type": "code",
   "execution_count": 276,
   "id": "681fa1f0",
   "metadata": {},
   "outputs": [],
   "source": [
    "predicted_type=tk.Label(app, text=\"Analyzed Type: None\")\n",
    "predicted_type.pack()"
   ]
  },
  {
   "cell_type": "code",
   "execution_count": 277,
   "id": "74ea0868",
   "metadata": {},
   "outputs": [],
   "source": [
    "predicted_vari=tk.Label(app, text=\"Variety of paddy: None\")\n",
    "predicted_vari.pack()"
   ]
  },
  {
   "cell_type": "markdown",
   "id": "a3b5f0e6",
   "metadata": {},
   "source": [
    "## Predicting"
   ]
  },
  {
   "cell_type": "code",
   "execution_count": 278,
   "id": "0734817a",
   "metadata": {},
   "outputs": [],
   "source": [
    "from tensorflow.keras.preprocessing.image import load_img, img_to_array\n",
    "import tensorflow as tf\n",
    "import numpy as np"
   ]
  },
  {
   "cell_type": "markdown",
   "id": "e1de5fa3",
   "metadata": {},
   "source": [
    "### 1. To check if it is a field"
   ]
  },
  {
   "cell_type": "code",
   "execution_count": 279,
   "id": "65811e0b",
   "metadata": {},
   "outputs": [],
   "source": [
    "def field_type():\n",
    "    global selected_file_path\n",
    "    model = tf.keras.models.load_model('field_type.h5')\n",
    "\n",
    "    img = cv2.imread(selected_file_path)\n",
    "    img = cv2.resize(img, (128, 128))\n",
    "    img = img / 255.0\n",
    "    img = np.expand_dims(img, axis=0)\n",
    "    prediction = model.predict(img)\n",
    "    prob = prediction[0][0] + prediction[0][2] + prediction[0][6]\n",
    "    if prob > 0.5:\n",
    "        predicted_field.config(text=\"Is field: True\")\n",
    "        return True\n",
    "    else:\n",
    "        predicted_field.config(text=\"Is field: False\")\n",
    "        return False"
   ]
  },
  {
   "cell_type": "markdown",
   "id": "ad883c4b",
   "metadata": {},
   "source": [
    "### 2. To check if it is paddy"
   ]
  },
  {
   "cell_type": "code",
   "execution_count": 280,
   "id": "dcc2c5d1",
   "metadata": {},
   "outputs": [],
   "source": [
    "def paddy_or_not():\n",
    "    global selected_file_path\n",
    "    model = tf.keras.models.load_model('paddy_or_not.h5')\n",
    "\n",
    "    image = load_img(selected_file_path, target_size=(224,224))\n",
    "    image = img_to_array(image)\n",
    "    image = image / 255.0  # Normalize the image\n",
    "    image = tf.expand_dims(image, 0)  # Add a batch dimension\n",
    "\n",
    "    result = model.predict(image)\n",
    "\n",
    "    class_indices = {0: 'jute', 1: 'maize', 2: 'rice', 3: 'sugarcane', 4: 'wheat'}\n",
    "    predicted_class = class_indices[np.argmax(result)]\n",
    "    if predicted_class == 'rice':\n",
    "        predicted_ispaddy.config(text=\"Is paddy: \"+\"True\")\n",
    "        return True  # If the model predicts the image as rice\n",
    "    else:\n",
    "        predicted_ispaddy.config(text=\"Is paddy: \"+\"False\")\n",
    "        return False\n",
    "\n",
    "    return True"
   ]
  },
  {
   "cell_type": "markdown",
   "id": "f72ea0ea",
   "metadata": {},
   "source": [
    "### 3. To find the type of paddy"
   ]
  },
  {
   "cell_type": "code",
   "execution_count": 281,
   "id": "52e2badc",
   "metadata": {},
   "outputs": [],
   "source": [
    "def analyze_type():\n",
    "    global selected_file_path\n",
    "    model = tf.keras.models.load_model('paddy-type_classification.h5')\n",
    "\n",
    "    image = load_img(selected_file_path, target_size=(256,256))\n",
    "    image = img_to_array(image)\n",
    "    image = image / 255.0  # Normalize the image\n",
    "    image = tf.expand_dims(image, 0)  # Add a batch dimension\n",
    "\n",
    "    predicted = model.predict(image)\n",
    "\n",
    "    types= ['Healthy', 'Mild', 'Moderate', 'Severe']\n",
    "    y_pred = [np.array(pred).argmax() for pred in predicted]\n",
    "\n",
    "    predicted_type.config(text=\"Analyzed Type: \"+ types[y_pred[0]])"
   ]
  },
  {
   "cell_type": "markdown",
   "id": "7aacd652",
   "metadata": {},
   "source": [
    "### 4. To detect the varierty of paddy"
   ]
  },
  {
   "cell_type": "code",
   "execution_count": 282,
   "id": "477b95fd",
   "metadata": {},
   "outputs": [],
   "source": [
    "def analyze_variety():\n",
    "    global selected_file_path\n",
    "    model = tf.keras.models.load_model('rice_variety_model.h5')\n",
    "\n",
    "    image = load_img(selected_file_path, target_size=(150,150))\n",
    "    image = img_to_array(image)\n",
    "    image = image / 255.0  # Normalize the image\n",
    "    image = tf.expand_dims(image, 0)  # Add a batch dimension\n",
    "\n",
    "    predicted = model.predict(image)\n",
    "\n",
    "    types= ['asd16', 'ADT_46', 'ADT-44', 'Muttakar rice', 'ADT39', 'MDU-3', 'ADT48', 'BPT5204', 'TPS3', 'mdu5', 'PMK4', 'IR20', 'IR_64', 'CORH 4', 'CORH3', 'MDU-4', 'CO50', 'TPS4', 'co46', 'Kuliparichan rice', 'adt37', 'ADT43_1', 'Sivappu chitrakar rice', 'PY-4', 'Norungan', 'ADT 49', 'TRY3', 'ADT38', 'TRY-1', 'CORH-1', 'CO47', 'CR1009', 'TPS-2', 'IR_36', 'bhavani', 'CO48', 'ADT47', 'CORH-2', 'asd20', 'ADT45', 'CO49', 'CO43', 'whiteponni', 'ADTRH-1', 'asd17', 'ADT36', 'RMD1']\n",
    "    y_pred = [np.array(pred).argmax() for pred in predicted]\n",
    "    predicted_vari.config(text=\"Variety of paddy: \"+ types[y_pred[0]])\n"
   ]
  },
  {
   "cell_type": "code",
   "execution_count": 283,
   "id": "fd135640",
   "metadata": {},
   "outputs": [
    {
     "name": "stderr",
     "output_type": "stream",
     "text": [
      "Exception in Tkinter callback\n",
      "Traceback (most recent call last):\n",
      "  File \"c:\\Users\\drshw\\anaconda3\\lib\\tkinter\\__init__.py\", line 1892, in __call__\n",
      "    return self.func(*args)\n",
      "  File \"C:\\Users\\drshw\\AppData\\Local\\Temp/ipykernel_10164/1726156782.py\", line 20, in browse_image\n",
      "    if(field_type()):\n",
      "  File \"C:\\Users\\drshw\\AppData\\Local\\Temp/ipykernel_10164/860324818.py\", line 3, in field_type\n",
      "    model = tf.keras.models.load_model('field_type.h5')\n",
      "  File \"c:\\Users\\drshw\\anaconda3\\lib\\site-packages\\keras\\src\\saving\\saving_api.py\", line 238, in load_model\n",
      "    return legacy_sm_saving_lib.load_model(\n",
      "  File \"c:\\Users\\drshw\\anaconda3\\lib\\site-packages\\keras\\src\\utils\\traceback_utils.py\", line 70, in error_handler\n",
      "    raise e.with_traceback(filtered_tb) from None\n",
      "  File \"c:\\Users\\drshw\\anaconda3\\lib\\site-packages\\keras\\src\\saving\\legacy\\save.py\", line 234, in load_model\n",
      "    raise IOError(\n",
      "OSError: No file or directory found at field_type.h5\n"
     ]
    }
   ],
   "source": [
    "# Start the Tkinter main loop\n",
    "app.mainloop()"
   ]
  },
  {
   "cell_type": "code",
   "execution_count": 284,
   "id": "3ee2a86a",
   "metadata": {},
   "outputs": [
    {
     "name": "stdout",
     "output_type": "stream",
     "text": [
      "Selected file path: C:/Users/drshw/Desktop/Megathon '23/Paddy-Onfield-Images/Severe/Severe (1).JPG\n"
     ]
    }
   ],
   "source": [
    "print(\"Selected file path:\", selected_file_path)"
   ]
  }
 ],
 "metadata": {
  "kernelspec": {
   "display_name": "Python 3 (ipykernel)",
   "language": "python",
   "name": "python3"
  },
  "language_info": {
   "codemirror_mode": {
    "name": "ipython",
    "version": 3
   },
   "file_extension": ".py",
   "mimetype": "text/x-python",
   "name": "python",
   "nbconvert_exporter": "python",
   "pygments_lexer": "ipython3",
   "version": "3.9.7"
  }
 },
 "nbformat": 4,
 "nbformat_minor": 5
}
