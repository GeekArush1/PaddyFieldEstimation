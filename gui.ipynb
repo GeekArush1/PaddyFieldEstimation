{
 "cells": [
  {
   "cell_type": "code",
   "execution_count": 198,
   "id": "3a78f14f",
   "metadata": {},
   "outputs": [],
   "source": [
    "import tkinter as tk\n",
    "from tkinter import filedialog\n",
    "from PIL import Image, ImageTk"
   ]
  },
  {
   "cell_type": "code",
   "execution_count": 199,
   "id": "63545f61",
   "metadata": {},
   "outputs": [],
   "source": [
    "# Define a global variable to store the file path\n",
    "selected_file_path = None\n",
    "\n",
    "def browse_image():\n",
    "    global selected_file_path\n",
    "    file_path = filedialog.askopenfilename(filetypes=[(\"Image Files\", \"*.png *.jpg *.jpeg *.gif *.bmp *.ppm *.pgm\")])\n",
    "    if file_path:\n",
    "\n",
    "        # Display the selected image\n",
    "        img = Image.open(file_path)\n",
    "        img = img.resize((200, 200))  # Resize the image to fit your window\n",
    "        img = ImageTk.PhotoImage(img)\n",
    "        image_display.config(image=img)\n",
    "        image_display.image = img  # Keep a reference to avoid garbage collection\n",
    "\n",
    "        # Set the global variable to the selected file path\n",
    "        selected_file_path = file_path\n",
    "        \n",
    "        # ANALYZING\n",
    "        if(paddy_or_not()):\n",
    "            analyze_type()\n",
    "\n"
   ]
  },
  {
   "cell_type": "code",
   "execution_count": 200,
   "id": "c3adefd3",
   "metadata": {},
   "outputs": [],
   "source": [
    "# Create the main application window\n",
    "app = tk.Tk()\n",
    "app.title(\"Analysing Paddy Cultivation\")\n",
    "\n",
    "# app.geometry(\"500x250\")\n",
    "description_label = tk.Label(app, text=\"Description:\")\n",
    "description_label.pack()\n",
    "\n",
    "desc=\"We have attempted to address this problem in a stagewise, divide and conquer fashion.\\n Firstly, given a satellite view of a geographical area, we aim to notify whether there is scope of paddy cultivation or not. Secondly, we look at the probable areas flagged by our first model. The second model is trained to differentiate between paddy and other crops. Lastly, we have models to detect the health of paddy and the variety of paddy being cultivated.\"\n",
    "\n",
    "description_text = tk.Label(app, text=desc, wraplength=450)\n",
    "description_text.pack()"
   ]
  },
  {
   "cell_type": "code",
   "execution_count": 201,
   "id": "ef9862fd",
   "metadata": {},
   "outputs": [],
   "source": [
    "# Create and pack a button to browse and select an image\n",
    "browse_button = tk.Button(app, text=\"Browse Image\", command=browse_image)\n",
    "browse_button.pack()\n",
    "\n",
    "image_display = tk.Label(app)\n",
    "image_display.pack()\n",
    "image_display.place()"
   ]
  },
  {
   "cell_type": "code",
   "execution_count": 202,
   "id": "44263dfe",
   "metadata": {},
   "outputs": [],
   "source": [
    "predicted_ispaddy=tk.Label(app, text=\"Is paddy: \")\n",
    "predicted_ispaddy.pack()"
   ]
  },
  {
   "cell_type": "code",
   "execution_count": 203,
   "id": "681fa1f0",
   "metadata": {},
   "outputs": [],
   "source": [
    "predicted_type=tk.Label(app, text=\"Analyzed Type: None\")\n",
    "predicted_type.pack()"
   ]
  },
  {
   "cell_type": "markdown",
   "id": "a3b5f0e6",
   "metadata": {},
   "source": [
    "## Predicting"
   ]
  },
  {
   "cell_type": "code",
   "execution_count": 204,
   "id": "0734817a",
   "metadata": {},
   "outputs": [],
   "source": [
    "from tensorflow.keras.preprocessing.image import load_img, img_to_array\n",
    "import tensorflow as tf\n",
    "import numpy as np"
   ]
  },
  {
   "cell_type": "markdown",
   "id": "ad883c4b",
   "metadata": {},
   "source": [
    "### 2. To check if it is paddy"
   ]
  },
  {
   "cell_type": "code",
   "execution_count": 205,
   "id": "dcc2c5d1",
   "metadata": {},
   "outputs": [],
   "source": [
    "def paddy_or_not():\n",
    "    global selected_file_path\n",
    "    model = tf.keras.models.load_model('paddy_or_not.h5')\n",
    "\n",
    "    image = load_img(selected_file_path, target_size=(224,224))\n",
    "    image = img_to_array(image)\n",
    "    image = image / 255.0  # Normalize the image\n",
    "    image = tf.expand_dims(image, 0)  # Add a batch dimension\n",
    "\n",
    "    result = model.predict(image)\n",
    "\n",
    "    class_indices = {0: 'jute', 1: 'maize', 2: 'rice', 3: 'sugarcane', 4: 'wheat'}\n",
    "    predicted_class = class_indices[np.argmax(result)]\n",
    "    if predicted_class == 'rice':\n",
    "        predicted_ispaddy.config(text=\"Is paddy: \"+\"True\")\n",
    "        return True  # If the model predicts the image as rice\n",
    "    else:\n",
    "        predicted_ispaddy.config(text=\"Is paddy: \"+\"False\")\n",
    "        return False\n",
    "\n",
    "    return True"
   ]
  },
  {
   "cell_type": "markdown",
   "id": "f72ea0ea",
   "metadata": {},
   "source": [
    "### 3. To find the type of paddy"
   ]
  },
  {
   "cell_type": "code",
   "execution_count": 206,
   "id": "52e2badc",
   "metadata": {},
   "outputs": [],
   "source": [
    "def analyze_type():\n",
    "    global selected_file_path\n",
    "    model = tf.keras.models.load_model('paddy-type_classification.h5')\n",
    "\n",
    "    image = load_img(selected_file_path, target_size=(256,256))\n",
    "    image = img_to_array(image)\n",
    "    image = image / 255.0  # Normalize the image\n",
    "    image = tf.expand_dims(image, 0)  # Add a batch dimension\n",
    "\n",
    "    predicted = model.predict(image)\n",
    "\n",
    "    types= ['Healthy', 'Mild', 'Moderate', 'Severe']\n",
    "    y_pred = [np.array(pred).argmax() for pred in predicted]\n",
    "\n",
    "    predicted_type.config(text=\"Analyzed Type: \"+ types[y_pred[0]])"
   ]
  },
  {
   "cell_type": "code",
   "execution_count": 207,
   "id": "fd135640",
   "metadata": {},
   "outputs": [
    {
     "name": "stdout",
     "output_type": "stream",
     "text": [
      "1/1 [==============================] - 0s 185ms/step\n",
      "1/1 [==============================] - 0s 62ms/step\n",
      "1/1 [==============================] - 0s 181ms/step\n",
      "1/1 [==============================] - 0s 62ms/step\n"
     ]
    }
   ],
   "source": [
    "# Start the Tkinter main loop\n",
    "app.mainloop()"
   ]
  },
  {
   "cell_type": "code",
   "execution_count": 208,
   "id": "3ee2a86a",
   "metadata": {},
   "outputs": [
    {
     "name": "stdout",
     "output_type": "stream",
     "text": [
      "Selected file path: C:/Users/drshw/Desktop/Megathon '23/Paddy-Onfield-Images/Severe/Severe (7).JPG\n"
     ]
    }
   ],
   "source": [
    "print(\"Selected file path:\", selected_file_path)"
   ]
  }
 ],
 "metadata": {
  "kernelspec": {
   "display_name": "Python 3 (ipykernel)",
   "language": "python",
   "name": "python3"
  },
  "language_info": {
   "codemirror_mode": {
    "name": "ipython",
    "version": 3
   },
   "file_extension": ".py",
   "mimetype": "text/x-python",
   "name": "python",
   "nbconvert_exporter": "python",
   "pygments_lexer": "ipython3",
   "version": "3.9.7"
  }
 },
 "nbformat": 4,
 "nbformat_minor": 5
}
