import os
import numpy as np
import tensorflow as tf
from tensorflow.keras.preprocessing import image
from tensorflow.keras.layers import Conv2D, MaxPooling2D, Flatten, Dense
from tensorflow.keras.models import Sequential

# Directory containing all images
directory = '/home/aditya/Desktop/Megathon/downloaded_images'

# Get list of images
images = os.listdir(directory)

# Load images and labels
data = []
labels = []

for img_name in images:
    img_path = os.path.join(directory, img_name)
    img = image.load_img(img_path, target_size=(150, 150))
    img_array = image.img_to_array(img) / 255.0
    data.append(img_array)

    # Extract variety name from the file name
    label = img_name.split(".")[0]  # Assuming the variety name is before the underscore
    labels.append(label)

# Convert the labels to numerical values
label_to_id = {val: idx for idx, val in enumerate(np.unique(labels))}
labels = [label_to_id[label] for label in labels]

data = np.array(data)
labels = np.array(labels)

# Define the model
model = Sequential([
    Conv2D(16, (3, 3), activation='relu', input_shape=(150, 150, 3)),
    MaxPooling2D(2, 2),
    Conv2D(32, (3, 3), activation='relu'),
    MaxPooling2D(2, 2),
    Conv2D(64, (3, 3), activation='relu'),
    MaxPooling2D(2, 2),
    Flatten(),
    Dense(512, activation='relu'),
    Dense(len(np.unique(labels)), activation='softmax')
])

model.compile(optimizer='adam', loss='sparse_categorical_crossentropy', metrics=['accuracy'])

# Train the model
model.fit(data, labels, epochs=15)

# Save the model
model.save("rice_variety_model.h5")
